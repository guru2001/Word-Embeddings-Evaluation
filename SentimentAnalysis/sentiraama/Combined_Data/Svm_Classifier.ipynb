{
 "cells": [
  {
   "cell_type": "code",
   "execution_count": 5,
   "metadata": {},
   "outputs": [
    {
     "data": {
      "text/html": [
       "<div>\n",
       "<style scoped>\n",
       "    .dataframe tbody tr th:only-of-type {\n",
       "        vertical-align: middle;\n",
       "    }\n",
       "\n",
       "    .dataframe tbody tr th {\n",
       "        vertical-align: top;\n",
       "    }\n",
       "\n",
       "    .dataframe thead th {\n",
       "        text-align: right;\n",
       "    }\n",
       "</style>\n",
       "<table border=\"1\" class=\"dataframe\">\n",
       "  <thead>\n",
       "    <tr style=\"text-align: right;\">\n",
       "      <th></th>\n",
       "      <th>Review</th>\n",
       "      <th>Sentiment</th>\n",
       "    </tr>\n",
       "  </thead>\n",
       "  <tbody>\n",
       "    <tr>\n",
       "      <th>0</th>\n",
       "      <td>రజినీకాంత్ నటిస్తోన్న కబాలి సినిమా విడుదల నెలక...</td>\n",
       "      <td>0</td>\n",
       "    </tr>\n",
       "    <tr>\n",
       "      <th>1</th>\n",
       "      <td>చిన్నతనం గ్యాంగ్స్టర్స్ చేయి తండ్రి కోల్పో సత్...</td>\n",
       "      <td>1</td>\n",
       "    </tr>\n",
       "    <tr>\n",
       "      <th>2</th>\n",
       "      <td>ఈ కెమెరా మీరు కోసం ఉత్తమ మరియు కొత్త 2017 మోడల...</td>\n",
       "      <td>1</td>\n",
       "    </tr>\n",
       "    <tr>\n",
       "      <th>3</th>\n",
       "      <td>హలో ఫ్రెండ్స్ ఈ వినోదం రంగం మరొక టెలివిజన్ సిస...</td>\n",
       "      <td>1</td>\n",
       "    </tr>\n",
       "    <tr>\n",
       "      <th>4</th>\n",
       "      <td>సగం అనే షార్ట్ నేమ్ కలుగు సతీష్ గణపతి ఆది తండ్...</td>\n",
       "      <td>1</td>\n",
       "    </tr>\n",
       "    <tr>\n",
       "      <th>5</th>\n",
       "      <td>నిజంగా ఈ ప్రోడక్ట్ అద్భుతం ఉండు ఈ ప్రోడక్ట్ యొ...</td>\n",
       "      <td>1</td>\n",
       "    </tr>\n",
       "    <tr>\n",
       "      <th>6</th>\n",
       "      <td>గౌతమ్ ( కళ్యాణ్ రామ్ ) తాను ఫ్యామిలీ అండ నిలువ...</td>\n",
       "      <td>0</td>\n",
       "    </tr>\n",
       "    <tr>\n",
       "      <th>7</th>\n",
       "      <td>LCD నిర్మాణం మీరు మొదట LCD నిర్మాణం తెలుసుకో అ...</td>\n",
       "      <td>0</td>\n",
       "    </tr>\n",
       "    <tr>\n",
       "      <th>8</th>\n",
       "      <td>నేను ఫోటో తియ్యి ఇప్పుడు ఈ కెమెరా ఉపయోగించు నే...</td>\n",
       "      <td>1</td>\n",
       "    </tr>\n",
       "    <tr>\n",
       "      <th>9</th>\n",
       "      <td>రెడ్మీ 4 A ఆ ధర విభాగం అత్యుత్తమ కిల్లర్ ఫోన్ ...</td>\n",
       "      <td>1</td>\n",
       "    </tr>\n",
       "  </tbody>\n",
       "</table>\n",
       "</div>"
      ],
      "text/plain": [
       "                                              Review  Sentiment\n",
       "0  రజినీకాంత్ నటిస్తోన్న కబాలి సినిమా విడుదల నెలక...          0\n",
       "1  చిన్నతనం గ్యాంగ్స్టర్స్ చేయి తండ్రి కోల్పో సత్...          1\n",
       "2  ఈ కెమెరా మీరు కోసం ఉత్తమ మరియు కొత్త 2017 మోడల...          1\n",
       "3  హలో ఫ్రెండ్స్ ఈ వినోదం రంగం మరొక టెలివిజన్ సిస...          1\n",
       "4  సగం అనే షార్ట్ నేమ్ కలుగు సతీష్ గణపతి ఆది తండ్...          1\n",
       "5  నిజంగా ఈ ప్రోడక్ట్ అద్భుతం ఉండు ఈ ప్రోడక్ట్ యొ...          1\n",
       "6  గౌతమ్ ( కళ్యాణ్ రామ్ ) తాను ఫ్యామిలీ అండ నిలువ...          0\n",
       "7  LCD నిర్మాణం మీరు మొదట LCD నిర్మాణం తెలుసుకో అ...          0\n",
       "8  నేను ఫోటో తియ్యి ఇప్పుడు ఈ కెమెరా ఉపయోగించు నే...          1\n",
       "9  రెడ్మీ 4 A ఆ ధర విభాగం అత్యుత్తమ కిల్లర్ ఫోన్ ...          1"
      ]
     },
     "execution_count": 5,
     "metadata": {},
     "output_type": "execute_result"
    }
   ],
   "source": [
    "import pandas as pd \n",
    "import numpy as np \n",
    "from sklearn.utils import shuffle\n",
    "\n",
    "df = pd.DataFrame()\n",
    "colnames=['Review','Sentiment'] \n",
    "df = pd.read_csv('combined_reviews.csv',encoding='utf-8',names=colnames)\n",
    "df.set_index(['Review', 'Sentiment'])\n",
    "\n",
    "df[df==np.inf]=np.nan\n",
    "df.fillna(0, inplace=True)\n",
    "df = shuffle(df).reset_index(drop=True)\n",
    "\n",
    "X_train=df.loc[:550,'Review'].values\n",
    "X_test=df.loc[551:,'Review'].values\n",
    "Y_train=df.loc[:550,'Sentiment'].values\n",
    "Y_test=df.loc[551:,'Sentiment'].values\n",
    "df.head(10)"
   ]
  },
  {
   "cell_type": "code",
   "execution_count": 6,
   "metadata": {},
   "outputs": [
    {
     "name": "stdout",
     "output_type": "stream",
     "text": [
      "[[1628 8946 1100 ...    0    0    0]\n",
      " [1936 8976  424 ...    0    0    0]\n",
      " [   4   69   87 ...    0    0    0]\n",
      " ...\n",
      " [ 521 2624 3706 ...    0    0    0]\n",
      " [1037  369   16 ...    0    0    0]\n",
      " [1805   27  944 ...    0    0    0]] [[  530   196   382 ...     0     0     0]\n",
      " [   28   162    42 ...     0     0     0]\n",
      " [ 6827  2314  1764 ...     0     0     0]\n",
      " ...\n",
      " [   94   832  2904 ...     0     0     0]\n",
      " [ 1996  1640   515 ...     0     0     0]\n",
      " [ 1081    56 22930 ...     0     0     0]]\n"
     ]
    }
   ],
   "source": [
    "from tensorflow.python.keras.preprocessing.text import Tokenizer\n",
    "from tensorflow.python.keras.preprocessing.sequence import pad_sequences\n",
    "\n",
    "tokenizer_obj = Tokenizer()\n",
    "Total_Reviews = df.loc[:,'Review'].values\n",
    "tokenizer_obj.fit_on_texts(Total_Reviews)\n",
    "\n",
    "#pad sequence\n",
    "max_length= max([len(s.split()) for s in Total_Reviews])\n",
    "\n",
    "#size of the vocabulary\n",
    "vocabulary_size = len(tokenizer_obj.word_index) +1 \n",
    "\n",
    "X_train_tokens = tokenizer_obj.texts_to_sequences(X_train)\n",
    "X_test_tokens = tokenizer_obj.texts_to_sequences(X_test)\n",
    "\n",
    "X_train_pad = pad_sequences (X_train_tokens,maxlen=max_length,padding=\"post\")\n",
    "X_train_pad = np.nan_to_num(X_train_pad)\n",
    "\n",
    "X_test_pad = pad_sequences (X_test_tokens,maxlen=max_length,padding=\"post\")\n",
    "X_test_pad = np.nan_to_num(X_test_pad)\n",
    "\n",
    "Total_Reviews_tokens = tokenizer_obj.texts_to_sequences(Total_Reviews)\n",
    "Total_reviews_pad = pad_sequences(Total_Reviews_tokens,maxlen=max_length,padding=\"post\")\n",
    "\n",
    "print(X_train_pad,X_test_pad)"
   ]
  },
  {
   "cell_type": "code",
   "execution_count": null,
   "metadata": {},
   "outputs": [
    {
     "name": "stdout",
     "output_type": "stream",
     "text": [
      "672\n",
      "672\n"
     ]
    }
   ],
   "source": [
    "# Import svmmodel\n",
    "from sklearn import svm\n",
    "from sklearn.model_selection import train_test_split\n",
    "\n",
    "X_train, X_test, y_train, y_test = train_test_split(Total_reviews_pad,df.loc[:,'Sentiment'].values, test_size=0.2, random_state=42)\n",
    "#Create a svm Classifier\n",
    "clf = svm.SVC(kernel='linear') # Linear Kernel\n",
    "\n",
    "#Train the model using the training sets\n",
    "clf.fit(X_train,y_train)\n",
    "\n",
    "#Predict the response for test dataset\n",
    "y_pred = clf.predict(X_test)\n",
    "\n",
    "from sklearn import metrics\n",
    "\n",
    "# Model Accuracy: how often is the classifier correct?\n",
    "print(\"Accuracy:\",metrics.accuracy_score(y_test, y_pred))\n"
   ]
  },
  {
   "cell_type": "code",
   "execution_count": null,
   "metadata": {},
   "outputs": [],
   "source": []
  }
 ],
 "metadata": {
  "kernelspec": {
   "display_name": "Python 3",
   "language": "python",
   "name": "python3"
  },
  "language_info": {
   "codemirror_mode": {
    "name": "ipython",
    "version": 3
   },
   "file_extension": ".py",
   "mimetype": "text/x-python",
   "name": "python",
   "nbconvert_exporter": "python",
   "pygments_lexer": "ipython3",
   "version": "3.7.3"
  }
 },
 "nbformat": 4,
 "nbformat_minor": 2
}
